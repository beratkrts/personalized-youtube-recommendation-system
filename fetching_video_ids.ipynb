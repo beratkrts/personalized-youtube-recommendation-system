{
 "cells": [
  {
   "cell_type": "code",
   "execution_count": 1,
   "metadata": {},
   "outputs": [],
   "source": [
    "import json\n",
    "\n",
    "with open('Takeout-2/YouTube and YouTube Music/history/watch-history.json') as r:\n",
    "    data = json.load(r)"
   ]
  },
  {
   "cell_type": "code",
   "execution_count": 2,
   "metadata": {},
   "outputs": [
    {
     "data": {
      "text/plain": [
       "[{'header': 'YouTube',\n",
       "  'title': 'Watched George R. R. Martin Regrets: Game of Thrones Final Season 12 Episodes Wish!',\n",
       "  'titleUrl': 'https://www.youtube.com/watch?v=pILKU5fB6Jk',\n",
       "  'subtitles': [{'name': 'Clips Theory',\n",
       "    'url': 'https://www.youtube.com/channel/UCGh8u7FZGg6PMTbOSaY-Etw'}],\n",
       "  'time': '2024-12-03T19:41:31.741Z',\n",
       "  'products': ['YouTube'],\n",
       "  'activityControls': ['YouTube watch history']},\n",
       " {'header': 'YouTube',\n",
       "  'title': 'Watched Rachel and Ross who hurt each other #friends #movie #shorts #video',\n",
       "  'titleUrl': 'https://www.youtube.com/watch?v=5G4Mg58vEYo',\n",
       "  'subtitles': [{'name': 'Jacob Evie',\n",
       "    'url': 'https://www.youtube.com/channel/UC-dIYwXp7P3wUE5HeLtceZQ'}],\n",
       "  'time': '2024-12-03T19:10:49.369Z',\n",
       "  'products': ['YouTube'],\n",
       "  'activityControls': ['YouTube watch history']},\n",
       " {'header': 'YouTube',\n",
       "  'title': 'Watched #beyazfutbol #beşiktaş #galatasaray #fenerbahçe #ahmetçakar #futbol #keşfet',\n",
       "  'titleUrl': 'https://www.youtube.com/watch?v=jYlAIEpiuEE',\n",
       "  'subtitles': [{'name': '90 Dakikka',\n",
       "    'url': 'https://www.youtube.com/channel/UC0D-scMBg5_jvXk1WEgD23A'}],\n",
       "  'time': '2024-12-03T19:10:25.548Z',\n",
       "  'products': ['YouTube'],\n",
       "  'activityControls': ['YouTube watch history']},\n",
       " {'header': 'YouTube',\n",
       "  'title': 'Watched 5 Year Old Saves Mother In Court 🥺',\n",
       "  'titleUrl': 'https://www.youtube.com/watch?v=SeBr75boB_c',\n",
       "  'subtitles': [{'name': 'courtshorts',\n",
       "    'url': 'https://www.youtube.com/channel/UC7Rl-9WkZ2yMIQJzGXmh9TA'}],\n",
       "  'time': '2024-12-03T19:10:24.367Z',\n",
       "  'products': ['YouTube'],\n",
       "  'activityControls': ['YouTube watch history']},\n",
       " {'header': 'YouTube',\n",
       "  'title': 'Watched Alex Pereira KNOCKING OUT Jamahal Hill 🤫 #nocommentary',\n",
       "  'titleUrl': 'https://www.youtube.com/watch?v=6hB2RLVqRl8',\n",
       "  'subtitles': [{'name': 'UFC',\n",
       "    'url': 'https://www.youtube.com/channel/UCvgfXK4nTYKudb0rFR6noLA'}],\n",
       "  'time': '2024-12-03T19:10:21.496Z',\n",
       "  'products': ['YouTube'],\n",
       "  'activityControls': ['YouTube watch history']}]"
      ]
     },
     "execution_count": 2,
     "metadata": {},
     "output_type": "execute_result"
    }
   ],
   "source": [
    "data[0: 5]"
   ]
  },
  {
   "cell_type": "code",
   "execution_count": 3,
   "metadata": {},
   "outputs": [
    {
     "name": "stdout",
     "output_type": "stream",
     "text": [
      "{'header': 'YouTube', 'title': 'Answered survey question', 'subtitles': [{'name': 'Question: Önceki reklamın sizinle alakalı olduğuna katılıyor musunuz?'}, {'name': 'Answer: Disagree'}], 'time': '2024-08-16T15:30:35.503Z', 'products': ['YouTube'], 'activityControls': ['YouTube watch history']}\n",
      "{'header': 'YouTube', 'title': 'Answered survey question', 'subtitles': [{'name': \"Question: Lütfen son zamanlarda YouTube'daki reklamlarla ilgili deneyiminize puan verin.\"}, {'name': 'Answer: Awful'}], 'time': '2024-07-18T19:41:25.650Z', 'products': ['YouTube'], 'activityControls': ['YouTube watch history']}\n",
      "{'header': 'YouTube', 'title': 'Answered survey question', 'subtitles': [{'name': \"Question: Lütfen son zamanlarda YouTube'daki reklamlarla ilgili deneyiminize puan verin.\"}, {'name': 'Answer: Awful'}], 'time': '2024-05-24T17:45:21.812Z', 'products': ['YouTube'], 'activityControls': ['YouTube watch history']}\n",
      "{'header': 'YouTube', 'title': 'Answered survey question', 'subtitles': [{'name': \"Question: Lütfen son zamanlarda YouTube'daki reklamlarla ilgili deneyiminize puan verin.\"}, {'name': 'Answer: Average'}], 'time': '2024-04-23T15:29:35.746Z', 'products': ['YouTube'], 'activityControls': ['YouTube watch history']}\n",
      "{'header': 'YouTube', 'title': 'Answered survey question', 'subtitles': [{'name': 'Question: Önceki reklamın sizinle alakalı olduğuna katılıyor musunuz?'}, {'name': 'Answer: Strongly disagree'}], 'time': '2024-01-14T21:16:10.937Z', 'products': ['YouTube'], 'activityControls': ['YouTube watch history']}\n",
      "5\n"
     ]
    }
   ],
   "source": [
    "problematics = [d for d in data if 'titleUrl' not in d]\n",
    "\n",
    "for p in problematics:\n",
    "    print(p)\n",
    "\n",
    "print (len(problematics))"
   ]
  },
  {
   "cell_type": "code",
   "execution_count": 4,
   "metadata": {},
   "outputs": [],
   "source": [
    "data = [d for d in data if 'titleUrl' in d]"
   ]
  },
  {
   "cell_type": "code",
   "execution_count": 5,
   "metadata": {},
   "outputs": [],
   "source": [
    "videoIds = [d['titleUrl'].split('=')[-1] for d in data]"
   ]
  },
  {
   "cell_type": "code",
   "execution_count": 28,
   "metadata": {},
   "outputs": [
    {
     "data": {
      "text/plain": [
       "['pILKU5fB6Jk', '5G4Mg58vEYo', 'jYlAIEpiuEE', 'SeBr75boB_c', '6hB2RLVqRl8']"
      ]
     },
     "execution_count": 28,
     "metadata": {},
     "output_type": "execute_result"
    }
   ],
   "source": [
    "videoIds[0: 5]"
   ]
  },
  {
   "cell_type": "code",
   "execution_count": 6,
   "metadata": {},
   "outputs": [],
   "source": [
    "with open('videoIds.txt', 'w') as w:\n",
    "    w.write('\\n'.join(videoIds))"
   ]
  },
  {
   "cell_type": "code",
   "execution_count": 30,
   "metadata": {},
   "outputs": [
    {
     "data": {
      "text/plain": [
       "14971"
      ]
     },
     "execution_count": 30,
     "metadata": {},
     "output_type": "execute_result"
    }
   ],
   "source": [
    "len(videoIds)"
   ]
  },
  {
   "cell_type": "code",
   "execution_count": 31,
   "metadata": {},
   "outputs": [],
   "source": [
    "idQuery = [v for v in videoIds if '&' in v]"
   ]
  },
  {
   "cell_type": "code",
   "execution_count": 32,
   "metadata": {},
   "outputs": [
    {
     "data": {
      "text/plain": [
       "[]"
      ]
     },
     "execution_count": 32,
     "metadata": {},
     "output_type": "execute_result"
    }
   ],
   "source": [
    "idQuery"
   ]
  },
  {
   "cell_type": "code",
   "execution_count": null,
   "metadata": {},
   "outputs": [],
   "source": []
  }
 ],
 "metadata": {
  "kernelspec": {
   "display_name": "base",
   "language": "python",
   "name": "python3"
  },
  "language_info": {
   "codemirror_mode": {
    "name": "ipython",
    "version": 3
   },
   "file_extension": ".py",
   "mimetype": "text/x-python",
   "name": "python",
   "nbconvert_exporter": "python",
   "pygments_lexer": "ipython3",
   "version": "3.12.7"
  }
 },
 "nbformat": 4,
 "nbformat_minor": 2
}
